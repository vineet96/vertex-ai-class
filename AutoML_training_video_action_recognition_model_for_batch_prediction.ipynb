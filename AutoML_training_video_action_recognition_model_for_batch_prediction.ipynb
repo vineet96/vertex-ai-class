{
  "cells": [
    {
      "cell_type": "markdown",
      "metadata": {
        "id": "view-in-github",
        "colab_type": "text"
      },
      "source": [
        "<a href=\"https://colab.research.google.com/github/vineet96/vertex-ai-class/blob/main/AutoML_training_video_action_recognition_model_for_batch_prediction.ipynb\" target=\"_parent\"><img src=\"https://colab.research.google.com/assets/colab-badge.svg\" alt=\"Open In Colab\"/></a>"
      ]
    },
    {
      "cell_type": "code",
      "execution_count": 12,
      "metadata": {
        "id": "fyl9mSVgZ4Pu",
        "colab": {
          "base_uri": "https://localhost:8080/"
        },
        "outputId": "9ad56ba4-fc05-4d33-ca91-4baa21b0c7b3"
      },
      "outputs": [
        {
          "output_type": "stream",
          "name": "stdout",
          "text": [
            "\u001b[31mERROR: Could not find a version that satisfies the requirement json (from versions: none)\u001b[0m\u001b[31m\n",
            "\u001b[0m\u001b[31mERROR: No matching distribution found for json\u001b[0m\u001b[31m\n",
            "\u001b[0m"
          ]
        }
      ],
      "source": [
        "! pip3 install --upgrade --quiet google-cloud-aiplatform \\\n",
        "                                    google-cloud-storage \\\n",
        "                                    jsonlines \\\n",
        ""
      ]
    },
    {
      "cell_type": "code",
      "execution_count": 2,
      "metadata": {
        "colab": {
          "base_uri": "https://localhost:8080/"
        },
        "id": "RdtbB7tYaEdU",
        "outputId": "2f580573-b12d-4ec7-f124-23a23ce75c44"
      },
      "outputs": [
        {
          "output_type": "execute_result",
          "data": {
            "text/plain": [
              "{'status': 'ok', 'restart': True}"
            ]
          },
          "metadata": {},
          "execution_count": 2
        }
      ],
      "source": [
        "# Automatically restart kernel after installs so that your environment can access the new packages\n",
        "import IPython\n",
        "app = IPython.Application.instance()\n",
        "app.kernel.do_shutdown(True)"
      ]
    },
    {
      "cell_type": "code",
      "execution_count": 2,
      "metadata": {
        "colab": {
          "base_uri": "https://localhost:8080/"
        },
        "id": "tYBhnZGGaHhu",
        "outputId": "629d1acd-f7e9-47a1-dbc0-b5e4ded2ddf1"
      },
      "outputs": [
        {
          "output_type": "stream",
          "name": "stdout",
          "text": [
            "Updated property [core/project].\n"
          ]
        }
      ],
      "source": [
        "PROJECT_ID = \"vertexai-dev-398204\"  # @param {type:\"string\"}\n",
        "\n",
        "# set the project id\n",
        "! gcloud config set project $PROJECT_ID"
      ]
    },
    {
      "cell_type": "code",
      "execution_count": 3,
      "metadata": {
        "id": "XO1XwdnAaLKY"
      },
      "outputs": [],
      "source": [
        "REGION = \"us-central1\"  # @param {type: \"string\"}"
      ]
    },
    {
      "cell_type": "code",
      "execution_count": 4,
      "metadata": {
        "id": "oTnyW4yFaR4E"
      },
      "outputs": [],
      "source": [
        "from google.colab import auth\n",
        "auth.authenticate_user()"
      ]
    },
    {
      "cell_type": "code",
      "execution_count": 5,
      "metadata": {
        "id": "low9NT71aU9S",
        "colab": {
          "base_uri": "https://localhost:8080/"
        },
        "outputId": "06f16d62-7135-41b7-989d-f3cd814ab81e"
      },
      "outputs": [
        {
          "output_type": "stream",
          "name": "stdout",
          "text": [
            "Creating gs://action-recognition-golf-swing1/...\n"
          ]
        }
      ],
      "source": [
        "BUCKET_NAME = \"action-recognition-golf-swing1\"  # @param {type:\"string\"}\n",
        "BUCKET_URI = f\"gs://{BUCKET_NAME}\"\n",
        "! gsutil mb -l $REGION $BUCKET_URI"
      ]
    },
    {
      "cell_type": "code",
      "execution_count": 15,
      "metadata": {
        "id": "y7dEz5g5aWQC"
      },
      "outputs": [],
      "source": [
        "import jsonlines\n",
        "import json\n",
        "from google.cloud import aiplatform, storage\n",
        "from google.cloud.aiplatform import jobs"
      ]
    },
    {
      "cell_type": "code",
      "execution_count": 16,
      "metadata": {
        "id": "HmIqyaBXaZgI"
      },
      "outputs": [],
      "source": [
        "aiplatform.init(project=PROJECT_ID, location=REGION)"
      ]
    },
    {
      "cell_type": "markdown",
      "metadata": {
        "id": "o8KmOTxeaxvn"
      },
      "source": [
        "Access Model with model-id\n",
        "\n",
        "aiplatform.Model(model_id)"
      ]
    },
    {
      "cell_type": "code",
      "execution_count": 17,
      "metadata": {
        "id": "3VkAop6Faqil"
      },
      "outputs": [],
      "source": [
        "model = aiplatform.Model(\"536990483889520640\")"
      ]
    },
    {
      "cell_type": "code",
      "execution_count": 18,
      "metadata": {
        "id": "2sdSPpp2bJRj"
      },
      "outputs": [],
      "source": [
        "IMPORT_FILES = [\n",
        "    \"gs://automl-video-demo-data/hmdb_golf_swing_train.csv\",\n",
        "    \"gs://automl-video-demo-data/hmdb_golf_swing_test.csv\",\n",
        "]"
      ]
    },
    {
      "cell_type": "markdown",
      "metadata": {
        "id": "obN7rK8CbOjt"
      },
      "source": [
        "Send a batch prediction request\n",
        "Send a batch prediction request to your registered model.\n",
        "\n",
        "Get test item(s)\n",
        "Now send a batch prediction request to your Vertex AI model. You use arbitrary examples out of the dataset as a test items. Don't be concerned that the examples were likely used in training the model as we just want to demonstrate how to make a prediction.\n",
        "\n"
      ]
    },
    {
      "cell_type": "code",
      "execution_count": 19,
      "metadata": {
        "id": "JsvDWvk-bP13",
        "colab": {
          "base_uri": "https://localhost:8080/"
        },
        "outputId": "b41c4b1f-a828-4b03-b36f-85b5090064bb"
      },
      "outputs": [
        {
          "output_type": "stream",
          "name": "stdout",
          "text": [
            "gs://automl-video-demo-data/hmdb51/9_Iron_From_160_Yards_golf_f_cm_np1_ri_goo_0.avi 1.6\n",
            "gs://automl-video-demo-data/hmdb51/Adam_Scott_golf_f_cm_np1_le_goo_0.avi 1.4\n"
          ]
        }
      ],
      "source": [
        "import_file = IMPORT_FILES[0]\n",
        "test_items = ! gsutil cat $import_file | head -n2\n",
        "\n",
        "cols = str(test_items[0]).split(\",\")\n",
        "test_item_1 = str(cols[0])\n",
        "test_label_1 = str(cols[-1])\n",
        "\n",
        "cols = str(test_items[1]).split(\",\")\n",
        "test_item_2 = str(cols[0])\n",
        "test_label_2 = str(cols[-1])\n",
        "\n",
        "print(test_item_1, test_label_1)\n",
        "print(test_item_2, test_label_2)"
      ]
    },
    {
      "cell_type": "markdown",
      "metadata": {
        "id": "FKnSHFjmbdnp"
      },
      "source": [
        "Make a batch input file\n",
        "Now make a batch input file, which you store in your local Cloud Storage bucket. The batch input file can be either CSV or JSONL. You use JSONL in this tutorial. For JSONL file, you make one dictionary entry per line for each video. The dictionary contains the key/value pairs:\n",
        "\n",
        "content: The Cloud Storage path to the video.\n",
        "mimeType: The content type. In our example, it is a avi file.\n",
        "timeSegmentStart: The start timestamp in the video to do prediction on. Note, the timestamp must be specified as a string and followed by s (second), m (minute) or h (hour).\n",
        "timeSegmentEnd: The end timestamp in the video to do prediction on.\n"
      ]
    },
    {
      "cell_type": "code",
      "execution_count": 20,
      "metadata": {
        "id": "csDzZlNqbe78",
        "colab": {
          "base_uri": "https://localhost:8080/"
        },
        "outputId": "59e11ac4-3177-443f-a943-e9ff5330cf10"
      },
      "outputs": [
        {
          "output_type": "stream",
          "name": "stdout",
          "text": [
            "gs://action-recognition-golf-swing1/test.jsonl\n",
            "{\"content\": \"gs://automl-video-demo-data/hmdb51/9_Iron_From_160_Yards_golf_f_cm_np1_ri_goo_0.avi\", \"mimeType\": \"video/avi\", \"timeSegmentStart\": \"0.0s\", \"timeSegmentEnd\": \"5.0s\"}\n",
            "{\"content\": \"gs://automl-video-demo-data/hmdb51/Adam_Scott_golf_f_cm_np1_le_goo_0.avi\", \"mimeType\": \"video/avi\", \"timeSegmentStart\": \"0.0s\", \"timeSegmentEnd\": \"5.0s\"}\n"
          ]
        }
      ],
      "source": [
        "test_filename = \"test.jsonl\"\n",
        "gcs_input_uri = BUCKET_URI + \"/\" + test_filename\n",
        "\n",
        "# Configure the test-data\n",
        "data_1 = {\n",
        "    \"content\": test_item_1,\n",
        "    \"mimeType\": \"video/avi\",\n",
        "    \"timeSegmentStart\": \"0.0s\",\n",
        "    \"timeSegmentEnd\": \"5.0s\",\n",
        "}\n",
        "data_2 = {\n",
        "    \"content\": test_item_2,\n",
        "    \"mimeType\": \"video/avi\",\n",
        "    \"timeSegmentStart\": \"0.0s\",\n",
        "    \"timeSegmentEnd\": \"5.0s\",\n",
        "}\n",
        "\n",
        "# Upload the test-data to Cloud storage bucket\n",
        "bucket = storage.Client(project=PROJECT_ID).bucket(BUCKET_URI.replace(\"gs://\", \"\"))\n",
        "blob = bucket.blob(blob_name=test_filename)\n",
        "data = json.dumps(data_1) + \"\\n\" + json.dumps(data_2) + \"\\n\"\n",
        "blob.upload_from_string(data)\n",
        "\n",
        "# Check the Cloud storage uri\n",
        "print(gcs_input_uri)\n",
        "! gsutil cat $gcs_input_uri"
      ]
    },
    {
      "cell_type": "markdown",
      "metadata": {
        "id": "HJil-JC8bi5k"
      },
      "source": [
        "Make the batch prediction request\n",
        "Now that your Vertex AI Model resource is trained, you can make a batch prediction by invoking the batch_predict() method, with the following parameters:\n",
        "\n",
        "job_display_name: The human readable name for the batch prediction job.\n",
        "gcs_source: A list of one or more batch request input files.\n",
        "gcs_destination_prefix: The Cloud Storage location for storing the batch prediction resuls.\n",
        "sync: If set to True, the call will block while waiting for the asynchronous batch job to complete.\n"
      ]
    },
    {
      "cell_type": "code",
      "execution_count": null,
      "metadata": {
        "id": "uy-h5rP_bmTA"
      },
      "outputs": [],
      "source": [
        "batch_predict_job = model.batch_predict(\n",
        "    job_display_name=\"golf\",\n",
        "    gcs_source=gcs_input_uri,\n",
        "    gcs_destination_prefix=BUCKET_URI,\n",
        "    sync=False,\n",
        ")\n",
        "\n",
        "print(batch_predict_job)"
      ]
    },
    {
      "cell_type": "markdown",
      "metadata": {
        "id": "dnq83na6bs9M"
      },
      "source": [
        "Cleaning up\n",
        "To clean up all Google Cloud resources used in this project, you can delete the Google Cloud project you used for the tutorial.\n",
        "\n",
        "Otherwise, you can delete the individual resources you created in this tutorial:\n",
        "\n",
        "Dataset\n",
        "Model\n",
        "AutoML Training Job\n",
        "Batch Job\n",
        "Cloud Storage Bucket"
      ]
    },
    {
      "cell_type": "code",
      "execution_count": null,
      "metadata": {
        "id": "By_EbHambt6W"
      },
      "outputs": [],
      "source": [
        "\n",
        "# Delete the model using the Vertex model object\n",
        "model.delete()\n",
        "\n",
        "# Delete the AutoML or Pipeline training job\n",
        "job.delete()\n",
        "\n",
        "# Delete the batch prediction job using the Vertex batch prediction object\n",
        "batch_predict_job.delete()\n",
        "\n",
        "# Delete Cloud Storage objects\n",
        "delete_bucket = False\n",
        "if delete_bucket or os.getenv(\"IS_TESTING\"):\n",
        "    ! gsutil -m rm -r $BUCKET_URI"
      ]
    }
  ],
  "metadata": {
    "colab": {
      "provenance": [],
      "authorship_tag": "ABX9TyOynQuR+XCHVj/615Buotb4",
      "include_colab_link": true
    },
    "kernelspec": {
      "display_name": "Python 3",
      "name": "python3"
    },
    "language_info": {
      "name": "python"
    }
  },
  "nbformat": 4,
  "nbformat_minor": 0
}