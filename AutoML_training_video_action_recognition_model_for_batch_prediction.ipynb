{
  "cells": [
    {
      "cell_type": "markdown",
      "metadata": {
        "id": "view-in-github",
        "colab_type": "text"
      },
      "source": [
        "<a href=\"https://colab.research.google.com/github/vineet96/vertex-ai-class/blob/main/AutoML_training_video_action_recognition_model_for_batch_prediction.ipynb\" target=\"_parent\"><img src=\"https://colab.research.google.com/assets/colab-badge.svg\" alt=\"Open In Colab\"/></a>"
      ]
    },
    {
      "cell_type": "code",
      "execution_count": 1,
      "metadata": {
        "id": "fyl9mSVgZ4Pu",
        "colab": {
          "base_uri": "https://localhost:8080/"
        },
        "outputId": "b3c550ee-eb59-4451-8c8f-a349c8559d90"
      },
      "outputs": [
        {
          "output_type": "stream",
          "name": "stdout",
          "text": [
            "\u001b[2K     \u001b[90m━━━━━━━━━━━━━━━━━━━━━━━━━━━━━━━━━━━━━━━━\u001b[0m \u001b[32m3.1/3.1 MB\u001b[0m \u001b[31m8.4 MB/s\u001b[0m eta \u001b[36m0:00:00\u001b[0m\n",
            "\u001b[2K     \u001b[90m━━━━━━━━━━━━━━━━━━━━━━━━━━━━━━━━━━━━━━\u001b[0m \u001b[32m118.8/118.8 kB\u001b[0m \u001b[31m11.5 MB/s\u001b[0m eta \u001b[36m0:00:00\u001b[0m\n",
            "\u001b[2K     \u001b[90m━━━━━━━━━━━━━━━━━━━━━━━━━━━━━━━━━━━━━━\u001b[0m \u001b[32m321.0/321.0 kB\u001b[0m \u001b[31m11.6 MB/s\u001b[0m eta \u001b[36m0:00:00\u001b[0m\n",
            "\u001b[2K     \u001b[90m━━━━━━━━━━━━━━━━━━━━━━━━━━━━━━━━━━━━━━━━\u001b[0m \u001b[32m2.0/2.0 MB\u001b[0m \u001b[31m17.8 MB/s\u001b[0m eta \u001b[36m0:00:00\u001b[0m\n",
            "\u001b[?25h"
          ]
        }
      ],
      "source": [
        "! pip3 install --upgrade --quiet google-cloud-aiplatform \\\n",
        "                                    google-cloud-storage \\\n",
        "                                    jsonlines"
      ]
    },
    {
      "cell_type": "code",
      "execution_count": null,
      "metadata": {
        "colab": {
          "base_uri": "https://localhost:8080/"
        },
        "id": "RdtbB7tYaEdU",
        "outputId": "c47767af-d1f8-489c-b3aa-96f0fc31fa5e"
      },
      "outputs": [
        {
          "data": {
            "text/plain": [
              "{'status': 'ok', 'restart': True}"
            ]
          },
          "execution_count": 1,
          "metadata": {},
          "output_type": "execute_result"
        }
      ],
      "source": [
        "# Automatically restart kernel after installs so that your environment can access the new packages\n",
        "import IPython\n",
        "app = IPython.Application.instance()\n",
        "app.kernel.do_shutdown(True)"
      ]
    },
    {
      "cell_type": "code",
      "execution_count": null,
      "metadata": {
        "colab": {
          "background_save": true
        },
        "id": "tYBhnZGGaHhu"
      },
      "outputs": [],
      "source": [
        "PROJECT_ID = \"vertexai-dev-398204\"  # @param {type:\"string\"}\n",
        "\n",
        "# set the project id\n",
        "! gcloud config set project $PROJECT_ID"
      ]
    },
    {
      "cell_type": "code",
      "execution_count": null,
      "metadata": {
        "id": "XO1XwdnAaLKY"
      },
      "outputs": [],
      "source": [
        "REGION = \"us-central1\"  # @param {type: \"string\"}"
      ]
    },
    {
      "cell_type": "code",
      "execution_count": null,
      "metadata": {
        "id": "oTnyW4yFaR4E"
      },
      "outputs": [],
      "source": [
        "from google.colab import auth\n",
        "auth.authenticate_user()"
      ]
    },
    {
      "cell_type": "code",
      "execution_count": null,
      "metadata": {
        "id": "low9NT71aU9S"
      },
      "outputs": [],
      "source": [
        "BUCKET_NAME = \"action-recognition-golf-swing\"  # @param {type:\"string\"}\n",
        "BUCKET_URI = f\"gs://{BUCKET_NAME}\"\n",
        "! gsutil mb -l $REGION $BUCKET_URI"
      ]
    },
    {
      "cell_type": "code",
      "execution_count": null,
      "metadata": {
        "id": "y7dEz5g5aWQC"
      },
      "outputs": [],
      "source": [
        "import jsonlines\n",
        "from google.cloud import aiplatform, storage\n",
        "from google.cloud.aiplatform import jobs"
      ]
    },
    {
      "cell_type": "code",
      "execution_count": null,
      "metadata": {
        "id": "HmIqyaBXaZgI"
      },
      "outputs": [],
      "source": [
        "aiplatform.init(project=PROJECT_ID, location=REGION)"
      ]
    },
    {
      "cell_type": "markdown",
      "metadata": {
        "id": "RiqwtQq1aoLb"
      },
      "source": [
        "Access Dataset resource with Dateset_id\n",
        "\n",
        "aiplatform.TextDataset(dataset_id)"
      ]
    },
    {
      "cell_type": "code",
      "execution_count": null,
      "metadata": {
        "id": "Kvj_oJ8EagZI"
      },
      "outputs": [],
      "source": [
        "text_dataset = aiplatform.TextDataset('8325292038798966784')"
      ]
    },
    {
      "cell_type": "markdown",
      "metadata": {
        "id": "o8KmOTxeaxvn"
      },
      "source": [
        "Access Model with model-id\n",
        "\n",
        "aiplatform.Model(model_id)"
      ]
    },
    {
      "cell_type": "code",
      "execution_count": null,
      "metadata": {
        "id": "3VkAop6Faqil"
      },
      "outputs": [],
      "source": [
        "model = aiplatform.Model(\"textclassificationmodel\")"
      ]
    },
    {
      "cell_type": "code",
      "execution_count": null,
      "metadata": {
        "id": "2sdSPpp2bJRj"
      },
      "outputs": [],
      "source": [
        "IMPORT_FILES = [\n",
        "    \"gs://automl-video-demo-data/hmdb_golf_swing_train.csv\",\n",
        "    \"gs://automl-video-demo-data/hmdb_golf_swing_test.csv\",\n",
        "]"
      ]
    },
    {
      "cell_type": "markdown",
      "metadata": {
        "id": "obN7rK8CbOjt"
      },
      "source": [
        "Send a batch prediction request\n",
        "Send a batch prediction request to your registered model.\n",
        "\n",
        "Get test item(s)\n",
        "Now send a batch prediction request to your Vertex AI model. You use arbitrary examples out of the dataset as a test items. Don't be concerned that the examples were likely used in training the model as we just want to demonstrate how to make a prediction.\n",
        "\n"
      ]
    },
    {
      "cell_type": "code",
      "execution_count": null,
      "metadata": {
        "id": "JsvDWvk-bP13"
      },
      "outputs": [],
      "source": [
        "import_file = IMPORT_FILES[0]\n",
        "test_items = ! gsutil cat $import_file | head -n2\n",
        "\n",
        "cols = str(test_items[0]).split(\",\")\n",
        "test_item_1 = str(cols[0])\n",
        "test_label_1 = str(cols[-1])\n",
        "\n",
        "cols = str(test_items[1]).split(\",\")\n",
        "test_item_2 = str(cols[0])\n",
        "test_label_2 = str(cols[-1])\n",
        "\n",
        "print(test_item_1, test_label_1)\n",
        "print(test_item_2, test_label_2)"
      ]
    },
    {
      "cell_type": "markdown",
      "metadata": {
        "id": "FKnSHFjmbdnp"
      },
      "source": [
        "Make a batch input file\n",
        "Now make a batch input file, which you store in your local Cloud Storage bucket. The batch input file can be either CSV or JSONL. You use JSONL in this tutorial. For JSONL file, you make one dictionary entry per line for each video. The dictionary contains the key/value pairs:\n",
        "\n",
        "content: The Cloud Storage path to the video.\n",
        "mimeType: The content type. In our example, it is a avi file.\n",
        "timeSegmentStart: The start timestamp in the video to do prediction on. Note, the timestamp must be specified as a string and followed by s (second), m (minute) or h (hour).\n",
        "timeSegmentEnd: The end timestamp in the video to do prediction on.\n"
      ]
    },
    {
      "cell_type": "code",
      "execution_count": null,
      "metadata": {
        "id": "csDzZlNqbe78"
      },
      "outputs": [],
      "source": [
        "test_filename = \"test.jsonl\"\n",
        "gcs_input_uri = BUCKET_URI + \"/\" + test_filename\n",
        "\n",
        "# Configure the test-data\n",
        "data_1 = {\n",
        "    \"content\": test_item_1,\n",
        "    \"mimeType\": \"video/avi\",\n",
        "    \"timeSegmentStart\": \"0.0s\",\n",
        "    \"timeSegmentEnd\": \"5.0s\",\n",
        "}\n",
        "data_2 = {\n",
        "    \"content\": test_item_2,\n",
        "    \"mimeType\": \"video/avi\",\n",
        "    \"timeSegmentStart\": \"0.0s\",\n",
        "    \"timeSegmentEnd\": \"5.0s\",\n",
        "}\n",
        "\n",
        "# Upload the test-data to Cloud storage bucket\n",
        "bucket = storage.Client(project=PROJECT_ID).bucket(BUCKET_URI.replace(\"gs://\", \"\"))\n",
        "blob = bucket.blob(blob_name=test_filename)\n",
        "data = json.dumps(data_1) + \"\\n\" + json.dumps(data_2) + \"\\n\"\n",
        "blob.upload_from_string(data)\n",
        "\n",
        "# Check the Cloud storage uri\n",
        "print(gcs_input_uri)\n",
        "! gsutil cat $gcs_input_uri"
      ]
    },
    {
      "cell_type": "markdown",
      "metadata": {
        "id": "HJil-JC8bi5k"
      },
      "source": [
        "Make the batch prediction request\n",
        "Now that your Vertex AI Model resource is trained, you can make a batch prediction by invoking the batch_predict() method, with the following parameters:\n",
        "\n",
        "job_display_name: The human readable name for the batch prediction job.\n",
        "gcs_source: A list of one or more batch request input files.\n",
        "gcs_destination_prefix: The Cloud Storage location for storing the batch prediction resuls.\n",
        "sync: If set to True, the call will block while waiting for the asynchronous batch job to complete.\n"
      ]
    },
    {
      "cell_type": "code",
      "execution_count": null,
      "metadata": {
        "id": "uy-h5rP_bmTA"
      },
      "outputs": [],
      "source": [
        "batch_predict_job = model.batch_predict(\n",
        "    job_display_name=\"golf\",\n",
        "    gcs_source=gcs_input_uri,\n",
        "    gcs_destination_prefix=BUCKET_URI,\n",
        "    sync=False,\n",
        ")\n",
        "\n",
        "print(batch_predict_job)"
      ]
    },
    {
      "cell_type": "markdown",
      "metadata": {
        "id": "dnq83na6bs9M"
      },
      "source": [
        "Cleaning up\n",
        "To clean up all Google Cloud resources used in this project, you can delete the Google Cloud project you used for the tutorial.\n",
        "\n",
        "Otherwise, you can delete the individual resources you created in this tutorial:\n",
        "\n",
        "Dataset\n",
        "Model\n",
        "AutoML Training Job\n",
        "Batch Job\n",
        "Cloud Storage Bucket"
      ]
    },
    {
      "cell_type": "code",
      "execution_count": null,
      "metadata": {
        "id": "By_EbHambt6W"
      },
      "outputs": [],
      "source": [
        "dataset.delete()\n",
        "\n",
        "# Delete the model using the Vertex model object\n",
        "model.delete()\n",
        "\n",
        "# Delete the AutoML or Pipeline training job\n",
        "job.delete()\n",
        "\n",
        "# Delete the batch prediction job using the Vertex batch prediction object\n",
        "batch_predict_job.delete()\n",
        "\n",
        "# Delete Cloud Storage objects\n",
        "delete_bucket = False\n",
        "if delete_bucket or os.getenv(\"IS_TESTING\"):\n",
        "    ! gsutil -m rm -r $BUCKET_URI"
      ]
    }
  ],
  "metadata": {
    "colab": {
      "provenance": [],
      "authorship_tag": "ABX9TyO9GtOJf/jSzaGiyTtbE6hJ",
      "include_colab_link": true
    },
    "kernelspec": {
      "display_name": "Python 3",
      "name": "python3"
    },
    "language_info": {
      "name": "python"
    }
  },
  "nbformat": 4,
  "nbformat_minor": 0
}