{
  "nbformat": 4,
  "nbformat_minor": 0,
  "metadata": {
    "colab": {
      "provenance": [],
      "authorship_tag": "ABX9TyPu3zQB4b1ztxRmxRRWt2WT",
      "include_colab_link": true
    },
    "kernelspec": {
      "name": "python3",
      "display_name": "Python 3"
    },
    "language_info": {
      "name": "python"
    }
  },
  "cells": [
    {
      "cell_type": "markdown",
      "metadata": {
        "id": "view-in-github",
        "colab_type": "text"
      },
      "source": [
        "<a href=\"https://colab.research.google.com/github/vineet96/vertex-ai-class/blob/main/Tabular_Bank_Marketting_Classification_Model.ipynb\" target=\"_parent\"><img src=\"https://colab.research.google.com/assets/colab-badge.svg\" alt=\"Open In Colab\"/></a>"
      ]
    },
    {
      "cell_type": "code",
      "execution_count": null,
      "metadata": {
        "id": "iQhiM2KFHoYW"
      },
      "outputs": [],
      "source": [
        "import os\n",
        "\n",
        "! pip3 install --upgrade google-cloud-aiplatform \\\n",
        "                         google-cloud-storage     \\\n",
        "                         tensorflow -q\n"
      ]
    },
    {
      "cell_type": "code",
      "source": [
        "import IPython\n",
        "\n",
        "app = IPython.Application.instance()\n",
        "app.kernel.do_shutdown(True)\n",
        "\n"
      ],
      "metadata": {
        "id": "oABcW6bhIPdS"
      },
      "execution_count": null,
      "outputs": []
    },
    {
      "cell_type": "code",
      "source": [
        "PROJECT_ID = \"vertexai-dev-387420\"  # @param {type:\"string\"}\n",
        "\n",
        "# Set the project id\n",
        "! gcloud config set project {PROJECT_ID}"
      ],
      "metadata": {
        "id": "23uPwunOxsou"
      },
      "execution_count": null,
      "outputs": []
    },
    {
      "cell_type": "code",
      "source": [
        "REGION = \"us-central1\"  # @param {type: \"string\"}"
      ],
      "metadata": {
        "id": "YJuDwZA-xtn7"
      },
      "execution_count": null,
      "outputs": []
    },
    {
      "cell_type": "code",
      "source": [
        "BUCKET_URI = \"gs://bank-marketting\""
      ],
      "metadata": {
        "id": "pJQd6O4pyGLK"
      },
      "execution_count": null,
      "outputs": []
    },
    {
      "cell_type": "code",
      "source": [
        "from google.colab import auth\n",
        "auth.authenticate_user()"
      ],
      "metadata": {
        "id": "3NqwD3OqxzOq"
      },
      "execution_count": null,
      "outputs": []
    },
    {
      "cell_type": "code",
      "source": [
        "import google.cloud.aiplatform as aiplatform\n",
        "aiplatform.init(project=PROJECT_ID)"
      ],
      "metadata": {
        "id": "yYGozFbgx2E9"
      },
      "execution_count": null,
      "outputs": []
    },
    {
      "cell_type": "code",
      "source": [
        "dataset = aiplatform.TabularDataset('5562559067290861568')"
      ],
      "metadata": {
        "id": "AKcuQRJtx49H"
      },
      "execution_count": null,
      "outputs": []
    },
    {
      "cell_type": "code",
      "source": [
        "model = aiplatform.Model(\"2202236028528361472\")"
      ],
      "metadata": {
        "id": "7SMQa67Zx8HJ"
      },
      "execution_count": null,
      "outputs": []
    },
    {
      "cell_type": "code",
      "source": [
        "endpoint = aiplatform.Endpoint('2425078448176234496')"
      ],
      "metadata": {
        "id": "TYa19iHvx-wK"
      },
      "execution_count": null,
      "outputs": []
    },
    {
      "cell_type": "code",
      "source": [
        "prediction = endpoint.predict(\n",
        "    [\n",
        "        {\n",
        "            \"Age\": \"25\",\n",
        "            \"Job\": \"entrepreneur\",\n",
        "            \"MaritalStatus\": \"married\",\n",
        "            \"Education\": \"tertiary\",\n",
        "            \"Default\": \"no\",\n",
        "            \"Balance\": \"50000\",\n",
        "            \"Housing\": \"yes\",\n",
        "            \"Loan\": \"yes\",\n",
        "            \"Contact\": \"cellular\",\n",
        "            \"Day\": \"20\",\n",
        "            \"Month\": \"june\",\n",
        "            \"Duration\": \"100.0\",\n",
        "            \"Campaign\": \"2\",\n",
        "            \"PDays\": \"-1.0\",\n",
        "            \"Previous\": \"0.0\",\n",
        "            \"POutcome\": \"success\"\n",
        "\n",
        "        }\n",
        "    ]\n",
        ")\n",
        "\n",
        "print(prediction)"
      ],
      "metadata": {
        "id": "PxtEa5AgzfbR"
      },
      "execution_count": null,
      "outputs": []
    },
    {
      "cell_type": "code",
      "source": [
        "gcs_input_uri = BUCKET_URI + \"/data_bank-marketing prediction.csv\""
      ],
      "metadata": {
        "id": "j0GC40HF6mhG"
      },
      "execution_count": null,
      "outputs": []
    },
    {
      "cell_type": "code",
      "source": [
        "batch_predict_job = model.batch_predict(\n",
        "    job_display_name=\"bankmarkettingbatchrequest\",\n",
        "    gcs_source=gcs_input_uri,\n",
        "    gcs_destination_prefix=BUCKET_URI,\n",
        "    sync=False,\n",
        ")\n",
        "\n",
        "print(batch_predict_job)\n",
        ""
      ],
      "metadata": {
        "id": "Cy499enQ6sN_"
      },
      "execution_count": null,
      "outputs": []
    },
    {
      "cell_type": "code",
      "source": [
        "dataset.delete()\n",
        "\n",
        "endpoint.undeploy_all()\n",
        "\n",
        "endpoint.delete()\n",
        "\n",
        "# Delete the model using the Vertex model object\n",
        "model.delete()\n",
        "\n",
        "# Delete the AutoML trainig job\n",
        "dag.delete()\n",
        "\n",
        "# Delete the batch prediction job\n",
        "batch_predict_job.delete()\n"
      ],
      "metadata": {
        "id": "oAPDSCxKymxS"
      },
      "execution_count": null,
      "outputs": []
    }
  ]
}