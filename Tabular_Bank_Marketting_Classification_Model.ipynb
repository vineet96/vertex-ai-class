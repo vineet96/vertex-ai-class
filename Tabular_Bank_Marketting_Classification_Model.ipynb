{
  "nbformat": 4,
  "nbformat_minor": 0,
  "metadata": {
    "colab": {
      "provenance": [],
      "authorship_tag": "ABX9TyP0wNpZStcjLNJRit2Q1cNq",
      "include_colab_link": true
    },
    "kernelspec": {
      "name": "python3",
      "display_name": "Python 3"
    },
    "language_info": {
      "name": "python"
    }
  },
  "cells": [
    {
      "cell_type": "markdown",
      "metadata": {
        "id": "view-in-github",
        "colab_type": "text"
      },
      "source": [
        "<a href=\"https://colab.research.google.com/github/vineet96/vertex-ai-class/blob/main/Tabular_Bank_Marketting_Classification_Model.ipynb\" target=\"_parent\"><img src=\"https://colab.research.google.com/assets/colab-badge.svg\" alt=\"Open In Colab\"/></a>"
      ]
    },
    {
      "cell_type": "code",
      "execution_count": 1,
      "metadata": {
        "id": "iQhiM2KFHoYW"
      },
      "outputs": [],
      "source": [
        "import os\n",
        "\n",
        "! pip3 install --upgrade google-cloud-aiplatform \\\n",
        "                         google-cloud-storage     \\\n",
        "                         tensorflow -q\n"
      ]
    },
    {
      "cell_type": "code",
      "source": [
        "import IPython\n",
        "\n",
        "app = IPython.Application.instance()\n",
        "app.kernel.do_shutdown(True)\n",
        "\n"
      ],
      "metadata": {
        "id": "oABcW6bhIPdS",
        "colab": {
          "base_uri": "https://localhost:8080/"
        },
        "outputId": "cbfbbd12-e7a0-4089-f421-aa83220e76e0"
      },
      "execution_count": 2,
      "outputs": [
        {
          "output_type": "execute_result",
          "data": {
            "text/plain": [
              "{'status': 'ok', 'restart': True}"
            ]
          },
          "metadata": {},
          "execution_count": 2
        }
      ]
    },
    {
      "cell_type": "code",
      "source": [
        "PROJECT_ID = \"vertexai-dev-387420\"  # @param {type:\"string\"}\n",
        "\n",
        "# Set the project id\n",
        "! gcloud config set project {PROJECT_ID}"
      ],
      "metadata": {
        "id": "23uPwunOxsou"
      },
      "execution_count": null,
      "outputs": []
    },
    {
      "cell_type": "code",
      "source": [
        "REGION = \"us-central1\"  # @param {type: \"string\"}"
      ],
      "metadata": {
        "id": "YJuDwZA-xtn7"
      },
      "execution_count": 2,
      "outputs": []
    },
    {
      "cell_type": "code",
      "source": [
        "BUCKET_URI = \"gs://bank-marketting\""
      ],
      "metadata": {
        "id": "pJQd6O4pyGLK"
      },
      "execution_count": 3,
      "outputs": []
    },
    {
      "cell_type": "code",
      "source": [
        "from google.colab import auth\n",
        "auth.authenticate_user()"
      ],
      "metadata": {
        "id": "3NqwD3OqxzOq"
      },
      "execution_count": 4,
      "outputs": []
    },
    {
      "cell_type": "code",
      "source": [
        "import google.cloud.aiplatform as aiplatform\n",
        "aiplatform.init(project=PROJECT_ID)"
      ],
      "metadata": {
        "id": "yYGozFbgx2E9"
      },
      "execution_count": 5,
      "outputs": []
    },
    {
      "cell_type": "code",
      "source": [
        "dataset = aiplatform.TabularDataset('5562559067290861568')"
      ],
      "metadata": {
        "id": "AKcuQRJtx49H"
      },
      "execution_count": 6,
      "outputs": []
    },
    {
      "cell_type": "code",
      "source": [
        "model = aiplatform.Model(\"2202236028528361472\")"
      ],
      "metadata": {
        "id": "7SMQa67Zx8HJ"
      },
      "execution_count": 7,
      "outputs": []
    },
    {
      "cell_type": "code",
      "source": [
        "endpoint = aiplatform.Endpoint('2425078448176234496')"
      ],
      "metadata": {
        "id": "TYa19iHvx-wK"
      },
      "execution_count": 8,
      "outputs": []
    },
    {
      "cell_type": "code",
      "source": [
        "prediction = endpoint.predict(\n",
        "    [\n",
        "        {\n",
        "            \"Age\": \"25\",\n",
        "            \"Job\": \"entrepreneur\",\n",
        "            \"MaritalStatus\": \"married\",\n",
        "            \"Education\": \"tertiary\",\n",
        "            \"Default\": \"no\",\n",
        "            \"Balance\": \"50000\",\n",
        "            \"Housing\": \"yes\",\n",
        "            \"Loan\": \"yes\",\n",
        "            \"Contact\": \"cellular\",\n",
        "            \"Day\": \"20\",\n",
        "            \"Month\": \"june\",\n",
        "            \"Duration\": \"100.0\",\n",
        "            \"Campaign\": \"2\",\n",
        "            \"PDays\": \"-1.0\",\n",
        "            \"Previous\": \"0.0\",\n",
        "            \"POutcome\": \"success\"\n",
        "         \n",
        "        }\n",
        "    ]\n",
        ")\n",
        "\n",
        "print(prediction)"
      ],
      "metadata": {
        "colab": {
          "base_uri": "https://localhost:8080/"
        },
        "id": "PxtEa5AgzfbR",
        "outputId": "3e0ff773-5c4e-418b-c4ab-8b7e2907129a"
      },
      "execution_count": 9,
      "outputs": [
        {
          "output_type": "stream",
          "name": "stdout",
          "text": [
            "Prediction(predictions=[{'scores': [0.9646633863449097, 0.03533658757805824], 'classes': ['1', '2']}], deployed_model_id='1090735325963091968', model_version_id='1', model_resource_name='projects/1052777806387/locations/us-central1/models/2202236028528361472', explanations=None)\n"
          ]
        }
      ]
    },
    {
      "cell_type": "code",
      "source": [
        "gcs_input_uri = BUCKET_URI + \"/data_bank-marketing prediction.csv\""
      ],
      "metadata": {
        "id": "j0GC40HF6mhG"
      },
      "execution_count": 10,
      "outputs": []
    },
    {
      "cell_type": "code",
      "source": [
        "batch_predict_job = model.batch_predict(\n",
        "    job_display_name=\"bankmarkettingbatchrequest\",\n",
        "    gcs_source=gcs_input_uri,\n",
        "    gcs_destination_prefix=BUCKET_URI,\n",
        "    sync=False,\n",
        ")\n",
        "\n",
        "print(batch_predict_job)\n",
        "     "
      ],
      "metadata": {
        "colab": {
          "base_uri": "https://localhost:8080/"
        },
        "id": "Cy499enQ6sN_",
        "outputId": "d0a73634-e3a0-450f-cc4a-f3a4730d6cf7"
      },
      "execution_count": 13,
      "outputs": [
        {
          "output_type": "stream",
          "name": "stdout",
          "text": [
            "Creating BatchPredictionJob\n",
            "<google.cloud.aiplatform.jobs.BatchPredictionJob object at 0x7f2b2cad7fa0> is waiting for upstream dependencies to complete.\n"
          ]
        },
        {
          "output_type": "stream",
          "name": "stderr",
          "text": [
            "INFO:google.cloud.aiplatform.jobs:Creating BatchPredictionJob\n"
          ]
        }
      ]
    },
    {
      "cell_type": "code",
      "source": [
        "dataset.delete()\n",
        "\n",
        "endpoint.undeploy_all()\n",
        "\n",
        "endpoint.delete()\n",
        "\n",
        "# Delete the model using the Vertex model object\n",
        "model.delete()\n",
        "\n",
        "# Delete the AutoML trainig job\n",
        "dag.delete()\n",
        "\n",
        "# Delete the batch prediction job\n",
        "batch_predict_job.delete()\n"
      ],
      "metadata": {
        "colab": {
          "base_uri": "https://localhost:8080/",
          "height": 652
        },
        "id": "oAPDSCxKymxS",
        "outputId": "ebe14a78-ceb5-470e-ffbd-5c9fe5a569cc"
      },
      "execution_count": 11,
      "outputs": [
        {
          "output_type": "stream",
          "name": "stdout",
          "text": [
            "Deleting TabularDataset : projects/1052777806387/locations/us-central1/datasets/5562559067290861568\n"
          ]
        },
        {
          "output_type": "stream",
          "name": "stderr",
          "text": [
            "INFO:google.cloud.aiplatform.base:Deleting TabularDataset : projects/1052777806387/locations/us-central1/datasets/5562559067290861568\n"
          ]
        },
        {
          "output_type": "stream",
          "name": "stdout",
          "text": [
            "Delete TabularDataset  backing LRO: projects/1052777806387/locations/us-central1/operations/1078029575750942720\n"
          ]
        },
        {
          "output_type": "stream",
          "name": "stderr",
          "text": [
            "INFO:google.cloud.aiplatform.base:Delete TabularDataset  backing LRO: projects/1052777806387/locations/us-central1/operations/1078029575750942720\n"
          ]
        },
        {
          "output_type": "stream",
          "name": "stdout",
          "text": [
            "TabularDataset deleted. . Resource name: projects/1052777806387/locations/us-central1/datasets/5562559067290861568\n"
          ]
        },
        {
          "output_type": "stream",
          "name": "stderr",
          "text": [
            "INFO:google.cloud.aiplatform.base:TabularDataset deleted. . Resource name: projects/1052777806387/locations/us-central1/datasets/5562559067290861568\n"
          ]
        },
        {
          "output_type": "stream",
          "name": "stdout",
          "text": [
            "Undeploying Endpoint model: projects/1052777806387/locations/us-central1/endpoints/2425078448176234496\n"
          ]
        },
        {
          "output_type": "stream",
          "name": "stderr",
          "text": [
            "INFO:google.cloud.aiplatform.models:Undeploying Endpoint model: projects/1052777806387/locations/us-central1/endpoints/2425078448176234496\n"
          ]
        },
        {
          "output_type": "stream",
          "name": "stdout",
          "text": [
            "Undeploy Endpoint model backing LRO: projects/1052777806387/locations/us-central1/endpoints/2425078448176234496/operations/6113053959151157248\n"
          ]
        },
        {
          "output_type": "stream",
          "name": "stderr",
          "text": [
            "INFO:google.cloud.aiplatform.models:Undeploy Endpoint model backing LRO: projects/1052777806387/locations/us-central1/endpoints/2425078448176234496/operations/6113053959151157248\n"
          ]
        },
        {
          "output_type": "stream",
          "name": "stdout",
          "text": [
            "Endpoint model undeployed. Resource name: projects/1052777806387/locations/us-central1/endpoints/2425078448176234496\n"
          ]
        },
        {
          "output_type": "stream",
          "name": "stderr",
          "text": [
            "INFO:google.cloud.aiplatform.models:Endpoint model undeployed. Resource name: projects/1052777806387/locations/us-central1/endpoints/2425078448176234496\n"
          ]
        },
        {
          "output_type": "stream",
          "name": "stdout",
          "text": [
            "Deleting Endpoint : projects/1052777806387/locations/us-central1/endpoints/2425078448176234496\n"
          ]
        },
        {
          "output_type": "stream",
          "name": "stderr",
          "text": [
            "INFO:google.cloud.aiplatform.base:Deleting Endpoint : projects/1052777806387/locations/us-central1/endpoints/2425078448176234496\n"
          ]
        },
        {
          "output_type": "stream",
          "name": "stdout",
          "text": [
            "Delete Endpoint  backing LRO: projects/1052777806387/locations/us-central1/operations/4519905590968844288\n"
          ]
        },
        {
          "output_type": "stream",
          "name": "stderr",
          "text": [
            "INFO:google.cloud.aiplatform.base:Delete Endpoint  backing LRO: projects/1052777806387/locations/us-central1/operations/4519905590968844288\n"
          ]
        },
        {
          "output_type": "stream",
          "name": "stdout",
          "text": [
            "Endpoint deleted. . Resource name: projects/1052777806387/locations/us-central1/endpoints/2425078448176234496\n"
          ]
        },
        {
          "output_type": "stream",
          "name": "stderr",
          "text": [
            "INFO:google.cloud.aiplatform.base:Endpoint deleted. . Resource name: projects/1052777806387/locations/us-central1/endpoints/2425078448176234496\n"
          ]
        },
        {
          "output_type": "stream",
          "name": "stdout",
          "text": [
            "Deleting Model : projects/1052777806387/locations/us-central1/models/2202236028528361472\n"
          ]
        },
        {
          "output_type": "stream",
          "name": "stderr",
          "text": [
            "INFO:google.cloud.aiplatform.base:Deleting Model : projects/1052777806387/locations/us-central1/models/2202236028528361472\n"
          ]
        },
        {
          "output_type": "stream",
          "name": "stdout",
          "text": [
            "Delete Model  backing LRO: projects/1052777806387/locations/us-central1/operations/3478448177139417088\n"
          ]
        },
        {
          "output_type": "stream",
          "name": "stderr",
          "text": [
            "INFO:google.cloud.aiplatform.base:Delete Model  backing LRO: projects/1052777806387/locations/us-central1/operations/3478448177139417088\n"
          ]
        },
        {
          "output_type": "stream",
          "name": "stdout",
          "text": [
            "Model deleted. . Resource name: projects/1052777806387/locations/us-central1/models/2202236028528361472\n"
          ]
        },
        {
          "output_type": "stream",
          "name": "stderr",
          "text": [
            "INFO:google.cloud.aiplatform.base:Model deleted. . Resource name: projects/1052777806387/locations/us-central1/models/2202236028528361472\n"
          ]
        },
        {
          "output_type": "error",
          "ename": "NameError",
          "evalue": "ignored",
          "traceback": [
            "\u001b[0;31m---------------------------------------------------------------------------\u001b[0m",
            "\u001b[0;31mNameError\u001b[0m                                 Traceback (most recent call last)",
            "\u001b[0;32m<ipython-input-11-7b92289ed4ad>\u001b[0m in \u001b[0;36m<cell line: 11>\u001b[0;34m()\u001b[0m\n\u001b[1;32m      9\u001b[0m \u001b[0;34m\u001b[0m\u001b[0m\n\u001b[1;32m     10\u001b[0m \u001b[0;31m# Delete the AutoML trainig job\u001b[0m\u001b[0;34m\u001b[0m\u001b[0;34m\u001b[0m\u001b[0m\n\u001b[0;32m---> 11\u001b[0;31m \u001b[0mdag\u001b[0m\u001b[0;34m.\u001b[0m\u001b[0mdelete\u001b[0m\u001b[0;34m(\u001b[0m\u001b[0;34m)\u001b[0m\u001b[0;34m\u001b[0m\u001b[0;34m\u001b[0m\u001b[0m\n\u001b[0m\u001b[1;32m     12\u001b[0m \u001b[0;34m\u001b[0m\u001b[0m\n\u001b[1;32m     13\u001b[0m \u001b[0;31m# Delete the batch prediction job\u001b[0m\u001b[0;34m\u001b[0m\u001b[0;34m\u001b[0m\u001b[0m\n",
            "\u001b[0;31mNameError\u001b[0m: name 'dag' is not defined"
          ]
        }
      ]
    }
  ]
}