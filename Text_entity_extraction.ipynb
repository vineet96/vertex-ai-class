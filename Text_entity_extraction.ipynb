{
  "nbformat": 4,
  "nbformat_minor": 0,
  "metadata": {
    "colab": {
      "provenance": [],
      "authorship_tag": "ABX9TyPLaHDcgR4yHxzCrUPmBVmR",
      "include_colab_link": true
    },
    "kernelspec": {
      "name": "python3",
      "display_name": "Python 3"
    },
    "language_info": {
      "name": "python"
    }
  },
  "cells": [
    {
      "cell_type": "markdown",
      "metadata": {
        "id": "view-in-github",
        "colab_type": "text"
      },
      "source": [
        "<a href=\"https://colab.research.google.com/github/vineet96/vertex-ai-class/blob/main/Text_entity_extraction.ipynb\" target=\"_parent\"><img src=\"https://colab.research.google.com/assets/colab-badge.svg\" alt=\"Open In Colab\"/></a>"
      ]
    },
    {
      "cell_type": "code",
      "execution_count": null,
      "metadata": {
        "id": "QCIUWdngHSi_"
      },
      "outputs": [],
      "source": [
        "! pip3 install --upgrade --quiet google-cloud-aiplatform \\\n",
        "                                    google-cloud-storage \\\n",
        "                                    jsonlines"
      ]
    },
    {
      "cell_type": "code",
      "source": [
        "# Automatically restart kernel after installs so that your environment can access the new packages\n",
        "import IPython\n",
        "app = IPython.Application.instance()\n",
        "app.kernel.do_shutdown(True)"
      ],
      "metadata": {
        "id": "d9n7dYovHu_A"
      },
      "execution_count": null,
      "outputs": []
    },
    {
      "cell_type": "code",
      "source": [
        "PROJECT_ID = \"vertexai-dev-387420\"  # @param {type:\"string\"}\n",
        "\n",
        "# set the project id\n",
        "! gcloud config set project $PROJECT_ID"
      ],
      "metadata": {
        "id": "776tg5DzH1Nb"
      },
      "execution_count": null,
      "outputs": []
    },
    {
      "cell_type": "code",
      "source": [
        "REGION = \"us-central1\"  # @param {type: \"string\"}"
      ],
      "metadata": {
        "id": "MS1nlruMH9G9"
      },
      "execution_count": null,
      "outputs": []
    },
    {
      "cell_type": "code",
      "source": [
        "from google.colab import auth\n",
        "auth.authenticate_user()"
      ],
      "metadata": {
        "id": "IX_4E0ntIGuh"
      },
      "execution_count": null,
      "outputs": []
    },
    {
      "cell_type": "code",
      "source": [
        "BUCKET_NAME = \"vertexai-dev-entity-extraction\"  # @param {type:\"string\"}\n",
        "BUCKET_URI = f\"gs://{BUCKET_NAME}\"\n",
        "! gsutil mb -l $REGION $BUCKET_URI"
      ],
      "metadata": {
        "id": "5M4_OZC6IKwM"
      },
      "execution_count": null,
      "outputs": []
    },
    {
      "cell_type": "code",
      "source": [
        "import jsonlines\n",
        "from google.cloud import aiplatform, storage\n",
        "from google.cloud.aiplatform import jobs"
      ],
      "metadata": {
        "id": "GwRpwLWXIZQ9"
      },
      "execution_count": null,
      "outputs": []
    },
    {
      "cell_type": "code",
      "source": [
        "aiplatform.init(project=PROJECT_ID, location=REGION)"
      ],
      "metadata": {
        "id": "0Bz6Z-TpIbrG"
      },
      "execution_count": null,
      "outputs": []
    },
    {
      "cell_type": "markdown",
      "source": [
        "Create a Dataset resource and import your data"
      ],
      "metadata": {
        "id": "C05wTggHIngV"
      }
    },
    {
      "cell_type": "code",
      "source": [
        "# # Use a timestamp to ensure unique resources\n",
        "# IMPORT_FILE = \"gs://cloud-samples-data/language/ucaip_ten_dataset.jsonl\"\n",
        "# display_name = \"text-entity-extraction-dataset\"\n",
        "\n",
        "# dataset = aiplatform.TextDataset.create(\n",
        "#     display_name=display_name,\n",
        "#     gcs_source=IMPORT_FILE,\n",
        "#     import_schema_uri=aiplatform.schema.dataset.ioformat.text.extraction\n",
        "#\n",
        "# )"
      ],
      "metadata": {
        "id": "ZPEgJY6zIoqO"
      },
      "execution_count": null,
      "outputs": []
    },
    {
      "cell_type": "markdown",
      "source": [
        "Access Dataset resource with Dateset_id"
      ],
      "metadata": {
        "id": "_IyZWLRYJLlu"
      }
    },
    {
      "cell_type": "code",
      "source": [
        "dataset = aiplatform.TextDataset('6232188036885512192')"
      ],
      "metadata": {
        "id": "21BwTmAmJJdH"
      },
      "execution_count": null,
      "outputs": []
    },
    {
      "cell_type": "markdown",
      "source": [
        "Create a Training job"
      ],
      "metadata": {
        "id": "otsRzRbvJwIW"
      }
    },
    {
      "cell_type": "code",
      "source": [
        "# training_job_display_name = \"biomedical\"\n",
        "# job = aiplatform.AutoMLTextTrainingJob(\n",
        "#     display_name=training_job_display_name,\n",
        "#     prediction_type=\"extraction\"\n",
        "#\n",
        "# )"
      ],
      "metadata": {
        "id": "S_vgZ-HWJzKU"
      },
      "execution_count": null,
      "outputs": []
    },
    {
      "cell_type": "markdown",
      "source": [
        "Run Training Job and Create the model"
      ],
      "metadata": {
        "id": "rw2x5g7UKFbC"
      }
    },
    {
      "cell_type": "code",
      "source": [
        "# model_display_name = \"text-classification-model\"\n",
        "\n",
        "# # Run the training job\n",
        "# model = job.run(\n",
        "#     dataset=dataset,\n",
        "#     model_display_name=model_display_name,\n",
        "#     training_fraction_split=0.8,\n",
        "#     validation_fraction_split=0.1,\n",
        "#     test_fraction_split=0.1\n",
        "#\n",
        "# )"
      ],
      "metadata": {
        "id": "gH7q2533KVzU"
      },
      "execution_count": null,
      "outputs": []
    },
    {
      "cell_type": "markdown",
      "source": [
        "Access Model with model-id"
      ],
      "metadata": {
        "id": "bH7YOmh7Khli"
      }
    },
    {
      "cell_type": "markdown",
      "source": [],
      "metadata": {
        "id": "fp6Tj3vdb1ec"
      }
    },
    {
      "cell_type": "code",
      "source": [
        "model = aiplatform.Model(\"en12345678\")"
      ],
      "metadata": {
        "id": "agBalUiCKkdb"
      },
      "execution_count": null,
      "outputs": []
    },
    {
      "cell_type": "markdown",
      "source": [
        "Deploy your model to an endpoint for online prediction"
      ],
      "metadata": {
        "id": "JCz7zg9uLt7m"
      }
    },
    {
      "cell_type": "code",
      "source": [
        "\n",
        "\n",
        "# endpoint = model.deploy()\n",
        "#\n",
        "#"
      ],
      "metadata": {
        "id": "JM-vSeZnL1Ic"
      },
      "execution_count": null,
      "outputs": []
    },
    {
      "cell_type": "code",
      "source": [
        "endpoint = aiplatform.Endpoint('6565223511869095936')"
      ],
      "metadata": {
        "id": "ZA4iPQrxL-96"
      },
      "execution_count": null,
      "outputs": []
    },
    {
      "cell_type": "markdown",
      "source": [
        "Make the prediction\n",
        "Now that your Model resource is deployed to an Endpoint resource, you can do online predictions by sending prediction requests to the Endpoint resource.\n",
        "\n",
        "Request\n",
        "The format of each instance is:\n",
        "\n",
        " { 'content': text_string }"
      ],
      "metadata": {
        "id": "EzZlVOb6FU-J"
      }
    },
    {
      "cell_type": "markdown",
      "source": [
        "Get Online prediction"
      ],
      "metadata": {
        "id": "u0FDVZP5b2RK"
      }
    },
    {
      "cell_type": "code",
      "source": [
        "content = \"The molecular basis of Sjogren-Larsson syndrome: mutation analysis of the fatty aldehyde dehydrogenase gene.Sjogren-Larsson syndrome ( SLS ) is an autosomal recessive disorder characterized by ichthyosis , mental retardation , spasticity and deficient activity of fatty aldehyde dehydrogenase ( FALDH )\"\n",
        "\n",
        "prediction = endpoint.predict(instances=[{\"content\": content}])\n",
        "\n",
        "print(prediction)"
      ],
      "metadata": {
        "id": "QTofl2FDb4Us",
        "colab": {
          "base_uri": "https://localhost:8080/"
        },
        "outputId": "042eac12-81ea-4a49-e94d-ef857c5a33ce"
      },
      "execution_count": null,
      "outputs": [
        {
          "output_type": "stream",
          "name": "stdout",
          "text": [
            "Prediction(predictions=[{'textSegmentStartOffsets': [23.0, 108.0, 135.0, 147.0, 193.0, 206.0, 227.0, 264.0], 'textSegmentEndOffsets': [47.0, 132.0, 138.0, 175.0, 203.0, 224.0, 237.0, 292.0], 'confidences': [0.9994844198226929, 0.9994757771492004, 0.9993690252304077, 0.999136745929718, 0.998482346534729, 0.9985561966896057, 0.5314425230026245, 0.3760026693344116], 'ids': ['6010554530272378880', '6010554530272378880', '6010554530272378880', '3704711521058684928', '6010554530272378880', '3704711521058684928', '6010554530272378880', '6010554530272378880'], 'displayNames': ['SpecificDisease', 'SpecificDisease', 'SpecificDisease', 'DiseaseClass', 'SpecificDisease', 'DiseaseClass', 'SpecificDisease', 'SpecificDisease']}], deployed_model_id='8888014393313329152', model_version_id='1', model_resource_name='projects/1052777806387/locations/us-central1/models/en12345678', explanations=None)\n"
          ]
        }
      ]
    },
    {
      "cell_type": "code",
      "source": [
        "endpoint.undeploy_all()"
      ],
      "metadata": {
        "id": "sUAPzVNtFuB3"
      },
      "execution_count": null,
      "outputs": []
    },
    {
      "cell_type": "markdown",
      "source": [
        "Create Batch Prediction"
      ],
      "metadata": {
        "id": "btM25kn8cu-9"
      }
    },
    {
      "cell_type": "markdown",
      "source": [
        "Make test items\n",
        "You use synthetic data as a test data items. Don't be concerned that we are using synthetic data -- we just want to demonstrate how to make a prediction."
      ],
      "metadata": {
        "id": "GRbhWmGUGFtU"
      }
    },
    {
      "cell_type": "code",
      "source": [
        "test_item_1 = 'Molecular basis of hexosaminidase A deficiency and pseudodeficiency in the Berks County Pennsylvania Dutch.\\tFollowing the birth of two infants with Tay-Sachs disease ( TSD ) , a non-Jewish , Pennsylvania Dutch kindred was screened for TSD carriers using the biochemical assay . A high frequency of individuals who appeared to be TSD heterozygotes was detected ( Kelly et al . , 1975 ) . Clinical and biochemical evidence suggested that the increased carrier frequency was due to at least two altered alleles for the hexosaminidase A alpha-subunit . We now report two mutant alleles in this Pennsylvania Dutch kindred , and one polymorphism . One allele , reported originally in a French TSD patient ( Akli et al . , 1991 ) , is a GT-- > AT transition at the donor splice-site of intron 9 . The second , a C-- > T transition at nucleotide 739 ( Arg247Trp ) , has been shown by Triggs-Raine et al . ( 1992 ) to be a clinically benign \" pseudodeficient \" allele associated with reduced enzyme activity against artificial substrate . Finally , a polymorphism [ G-- > A ( 759 ) ] , which leaves valine at codon 253 unchanged , is described'\n",
        "test_item_2 = \"Analysis of alkaptonuria (AKU) mutations and polymorphisms reveals that the CCC sequence motif is a mutational hot spot in the homogentisate 1,2 dioxygenase gene (HGO).\tWe recently showed that alkaptonuria ( AKU ) is caused by loss-of-function mutations in the homogentisate 1 , 2 dioxygenase gene ( HGO ) . Herein we describe haplotype and mutational analyses of HGO in seven new AKU pedigrees . These analyses identified two novel single-nucleotide polymorphisms ( INV4 + 31A-- > G and INV11 + 18A-- > G ) and six novel AKU mutations ( INV1-1G-- > A , W60G , Y62C , A122D , P230T , and D291E ) , which further illustrates the remarkable allelic heterogeneity found in AKU . Reexamination of all 29 mutations and polymorphisms thus far described in HGO shows that these nucleotide changes are not randomly distributed ; the CCC sequence motif and its inverted complement , GGG , are preferentially mutated . These analyses also demonstrated that the nucleotide substitutions in HGO do not involve CpG dinucleotides , which illustrates important differences between HGO and other genes for the occurrence of mutation at specific short-sequence motifs . Because the CCC sequence motifs comprise a significant proportion ( 34 . 5 % ) of all mutated bases that have been observed in HGO , we conclude that the CCC triplet is a mutational hot spot in HGO .\""
      ],
      "metadata": {
        "id": "zV73o-hrcyeL"
      },
      "execution_count": null,
      "outputs": []
    },
    {
      "cell_type": "code",
      "source": [
        "import json\n",
        "\n",
        "import tensorflow as tf\n",
        "\n",
        "gcs_test_item_1 = BUCKET_URI + \"/test1.txt\"\n",
        "with tf.io.gfile.GFile(gcs_test_item_1, \"w\") as f:\n",
        "    f.write(test_item_1 + \"\\n\")\n",
        "gcs_test_item_2 = BUCKET_URI + \"/test2.txt\"\n",
        "with tf.io.gfile.GFile(gcs_test_item_2, \"w\") as f:\n",
        "    f.write(test_item_2 + \"\\n\")\n",
        "\n",
        "gcs_input_uri = BUCKET_URI + \"/test.jsonl\"\n",
        "with tf.io.gfile.GFile(gcs_input_uri, \"w\") as f:\n",
        "    data = {\"content\": gcs_test_item_1, \"mime_type\": \"text/plain\"}\n",
        "    f.write(json.dumps(data) + \"\\n\")\n",
        "    data = {\"content\": gcs_test_item_2, \"mime_type\": \"text/plain\"}\n",
        "    f.write(json.dumps(data) + \"\\n\")\n",
        "\n",
        "print(gcs_input_uri)\n",
        "! gsutil cat $gcs_input_uri"
      ],
      "metadata": {
        "id": "fU-lTjH8GUOD"
      },
      "execution_count": null,
      "outputs": []
    },
    {
      "cell_type": "code",
      "source": [
        "gcs_input_uri = BUCKET_URI + \"/test.jsonl\"\n",
        "batch_prediction_job = model.batch_predict(\n",
        "    job_display_name=\"biomedical1\",\n",
        "    gcs_source=gcs_input_uri,\n",
        "    gcs_destination_prefix=f\"{BUCKET_URI}/output\",\n",
        "    sync=False,\n",
        ")\n"
      ],
      "metadata": {
        "id": "aE23JfXKc8K3"
      },
      "execution_count": null,
      "outputs": []
    },
    {
      "cell_type": "markdown",
      "source": [
        "Clean UP"
      ],
      "metadata": {
        "id": "7C6TsZYEdL9b"
      }
    },
    {
      "cell_type": "code",
      "source": [
        "\n",
        "! gsutil rm -r $BUCKET_URI\n",
        "\n",
        "# Delete batch\n",
        "batch_prediction_job.delete()\n",
        "\n",
        "\n",
        "# `force` parameter ensures that models are undeployed before deletion\n",
        "endpoint.delete()\n",
        "\n",
        "# Delete model\n",
        "model.delete()\n",
        "\n",
        "# Delete text dataset\n",
        "dataset.delete()\n",
        "\n",
        "# Delete training job\n",
        "job.delete()"
      ],
      "metadata": {
        "id": "ezNfMS4udNQQ"
      },
      "execution_count": null,
      "outputs": []
    }
  ]
}