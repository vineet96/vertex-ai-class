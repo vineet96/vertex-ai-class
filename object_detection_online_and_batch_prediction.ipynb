{
  "nbformat": 4,
  "nbformat_minor": 0,
  "metadata": {
    "colab": {
      "provenance": [],
      "authorship_tag": "ABX9TyM6XVeHUAW0AAK28Gw4uKO6",
      "include_colab_link": true
    },
    "kernelspec": {
      "name": "python3",
      "display_name": "Python 3"
    },
    "language_info": {
      "name": "python"
    }
  },
  "cells": [
    {
      "cell_type": "markdown",
      "metadata": {
        "id": "view-in-github",
        "colab_type": "text"
      },
      "source": [
        "<a href=\"https://colab.research.google.com/github/vineet96/vertex-ai-class/blob/main/object_detection_online_and_batch_prediction.ipynb\" target=\"_parent\"><img src=\"https://colab.research.google.com/assets/colab-badge.svg\" alt=\"Open In Colab\"/></a>"
      ]
    },
    {
      "cell_type": "code",
      "execution_count": null,
      "metadata": {
        "id": "iQhiM2KFHoYW"
      },
      "outputs": [],
      "source": [
        "import os\n",
        "\n",
        "! pip3 install --upgrade google-cloud-aiplatform \\\n",
        "                         google-cloud-storage     \\\n",
        "                         tensorflow -q\n"
      ]
    },
    {
      "cell_type": "code",
      "source": [
        "import IPython\n",
        "\n",
        "app = IPython.Application.instance()\n",
        "app.kernel.do_shutdown(True)\n",
        "\n"
      ],
      "metadata": {
        "id": "oABcW6bhIPdS"
      },
      "execution_count": null,
      "outputs": []
    },
    {
      "cell_type": "code",
      "source": [
        "PROJECT_ID = \"vertexai-dev-387420\"  # @param {type:\"string\"}\n",
        "\n",
        "# Set the project id\n",
        "! gcloud config set project {PROJECT_ID}"
      ],
      "metadata": {
        "id": "Iui_HNxyIRd-"
      },
      "execution_count": null,
      "outputs": []
    },
    {
      "cell_type": "code",
      "source": [
        "REGION = \"us-central1\"  # @param {type: \"string\"}"
      ],
      "metadata": {
        "id": "ve35afTeIVEn"
      },
      "execution_count": null,
      "outputs": []
    },
    {
      "cell_type": "code",
      "source": [
        "from google.colab import auth\n",
        "auth.authenticate_user()"
      ],
      "metadata": {
        "id": "ojcsuf_PIYWX"
      },
      "execution_count": null,
      "outputs": []
    },
    {
      "cell_type": "code",
      "source": [
        "import google.cloud.aiplatform as aiplatform\n",
        "aiplatform.init(project=PROJECT_ID)"
      ],
      "metadata": {
        "id": "FPQeFd50IcF1"
      },
      "execution_count": null,
      "outputs": []
    },
    {
      "cell_type": "code",
      "source": [
        "dataset = aiplatform.ImageDataset('4970933850617151488')"
      ],
      "metadata": {
        "id": "KWlHfJqYIluU"
      },
      "execution_count": null,
      "outputs": []
    },
    {
      "cell_type": "code",
      "source": [
        "#IMPORT_FILE = \"gs://cloud-samples-data/vision/salads.csv\"\n",
        "\n",
        "\n",
        "\n",
        "#DISPLAY_NAME = \"salads_unique\"\n",
        "#dataset = aiplatform.ImageDataset.create(\n",
        " #   display_name=DISPLAY_NAME,\n",
        " #   gcs_source=[IMPORT_FILE],\n",
        "#    import_schema_uri=aiplatform.schema.dataset.ioformat.image.bounding_box,\n",
        "#)\n",
        "\n",
        "#print(dataset.resource_name)"
      ],
      "metadata": {
        "id": "uaJ2Nu88KU9F"
      },
      "execution_count": null,
      "outputs": []
    },
    {
      "cell_type": "code",
      "source": [
        "# dag = aiplatform.AutoMLImageTrainingJob(\n",
        "#     display_name=\"saladprediction\",\n",
        "#     prediction_type=\"object_detection\",\n",
        "#     multi_label=False,\n",
        "#     model_type=\"CLOUD\",\n",
        "#     base_model=None,\n",
        "# )\n",
        "\n",
        "# print(dag)"
      ],
      "metadata": {
        "id": "jUq8jF0wIpJd"
      },
      "execution_count": null,
      "outputs": []
    },
    {
      "cell_type": "code",
      "source": [
        "# model = dag.run(\n",
        "#     dataset=dataset,\n",
        "#     model_display_name=\"saladprediction\",\n",
        "#     training_fraction_split=0.8,\n",
        "#     validation_fraction_split=0.1,\n",
        "#     test_fraction_split=0.1,\n",
        "#     budget_milli_node_hours=8000,\n",
        "#     disable_early_stopping=False,\n",
        "# )"
      ],
      "metadata": {
        "id": "YqV7dPZwI0li"
      },
      "execution_count": null,
      "outputs": []
    },
    {
      "cell_type": "code",
      "source": [
        "model = aiplatform.Model(\"projects/1052777806387/locations/us-central1/models/1847436820384579584\")"
      ],
      "metadata": {
        "id": "qtqOMoCLO6pg"
      },
      "execution_count": null,
      "outputs": []
    },
    {
      "cell_type": "code",
      "source": [
        "endpoint = aiplatform.Endpoint('527092680216281088')"
      ],
      "metadata": {
        "id": "gYB9g3FzI3gV"
      },
      "execution_count": null,
      "outputs": []
    },
    {
      "cell_type": "markdown",
      "source": [
        "**Online prediction**"
      ],
      "metadata": {
        "id": "uSW2Dh_8XyC4"
      }
    },
    {
      "cell_type": "code",
      "source": [
        "test_image1 = \"gs://vertexai-dev-salad-object-detection/salad1.jpeg\""
      ],
      "metadata": {
        "id": "XJeoKPsvW8jk"
      },
      "execution_count": null,
      "outputs": []
    },
    {
      "cell_type": "markdown",
      "source": [
        "# New Section"
      ],
      "metadata": {
        "id": "GCZ_CXw2wkFc"
      }
    },
    {
      "cell_type": "code",
      "source": [
        "import base64\n",
        "\n",
        "import tensorflow as tf\n",
        "\n",
        "with tf.io.gfile.GFile(test_image1, \"rb\") as f:\n",
        "    content = f.read()\n",
        "\n",
        "# The format of each instance should conform to the deployed model's prediction input schema.\n",
        "instances = [{\"content\": base64.b64encode(content).decode(\"utf-8\")}]\n",
        "\n",
        "prediction = endpoint.predict(instances=instances)\n",
        "\n",
        "print(prediction)"
      ],
      "metadata": {
        "id": "cIwKPdT4XtA2"
      },
      "execution_count": null,
      "outputs": []
    },
    {
      "cell_type": "code",
      "source": [
        "BUCKET_URI = \"gs://vertexai-dev-salad-object-detection\"\n",
        ""
      ],
      "metadata": {
        "id": "2D4ATc1uaEBr"
      },
      "execution_count": null,
      "outputs": []
    },
    {
      "cell_type": "code",
      "source": [
        "test_image2 = \"gs://vertexai-dev-salad-object-detection/salad2.jpeg\""
      ],
      "metadata": {
        "id": "rZXMz8wocirq"
      },
      "execution_count": null,
      "outputs": []
    },
    {
      "cell_type": "code",
      "source": [
        "import json\n",
        "\n",
        "import tensorflow as tf\n",
        "gcs_input_uri = BUCKET_URI + \"/test.jsonl\"\n",
        "\n",
        "with tf.io.gfile.GFile(gcs_input_uri, \"w\") as f:\n",
        "    data = {\"content\": test_image1, \"mime_type\": \"image/jpeg\"}\n",
        "    f.write(json.dumps(data) + \"\\n\")\n",
        "    data = {\"content\": test_image2, \"mime_type\": \"image/jpeg\"}\n",
        "    f.write(json.dumps(data) + \"\\n\")\n",
        "\n",
        "print(gcs_input_uri)\n",
        "! gsutil cat $gcs_input_uri"
      ],
      "metadata": {
        "id": "CxZ0LC7kc-A2"
      },
      "execution_count": null,
      "outputs": []
    },
    {
      "cell_type": "code",
      "source": [
        "batch_predict_job = model.batch_predict(\n",
        "    job_display_name=\"saladbatchrequest\",\n",
        "    gcs_source=gcs_input_uri,\n",
        "    gcs_destination_prefix=BUCKET_URI,\n",
        "    sync=False,\n",
        ")\n",
        "\n",
        "print(batch_predict_job)\n",
        ""
      ],
      "metadata": {
        "id": "4zdt4P9LdBK8"
      },
      "execution_count": null,
      "outputs": []
    },
    {
      "cell_type": "code",
      "source": [
        "batch_predict_job.wait()\n",
        ""
      ],
      "metadata": {
        "id": "_U6IooyvdHWl"
      },
      "execution_count": null,
      "outputs": []
    },
    {
      "cell_type": "code",
      "source": [
        "# Delete the dataset using the Vertex dataset object\n",
        "dataset.delete()\n",
        "\n",
        "endpoint.undeploy_all()\n",
        "\n",
        "endpoint.delete()\n",
        "\n",
        "# Delete the model using the Vertex model object\n",
        "model.delete()\n",
        "\n",
        "# Delete the AutoML trainig job\n",
        "dag.delete()\n",
        "\n",
        "# Delete the batch prediction job\n",
        "batch_predict_job.delete()\n"
      ],
      "metadata": {
        "id": "199AYJU4dL0s"
      },
      "execution_count": null,
      "outputs": []
    }
  ]
}